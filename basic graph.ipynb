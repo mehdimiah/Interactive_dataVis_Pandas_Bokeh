{
 "cells": [
  {
   "cell_type": "code",
   "execution_count": 2,
   "id": "92a920c8",
   "metadata": {},
   "outputs": [],
   "source": [
    "from bokeh.plotting import figure\n",
    "from bokeh.io import output_file,show\n",
    "\n",
    "#prepare some data\n",
    "x=[1,2,3,4,5]\n",
    "y=[6,7,8,9,10]\n",
    "#lists must be same length in bokeh or it will throw an error\n",
    "\n",
    "#prepare the output file\n",
    "output_file(\"Line.html\")\n",
    "\n",
    "#create figure object\n",
    "f = figure()\n",
    "\n",
    "#create line plot\n",
    "f.line(x,y)\n",
    "\n",
    "show(f)\n"
   ]
  },
  {
   "cell_type": "code",
   "execution_count": 11,
   "id": "ff86f971",
   "metadata": {},
   "outputs": [],
   "source": [
    "from bokeh.plotting import figure\n",
    "from bokeh.io import output_file,show\n",
    "import pandas\n",
    "\n",
    "\n",
    "\n",
    "#prepare some data\n",
    "df = pandas.read_csv(\"data.csv\")\n",
    "\n",
    "\n",
    "x=df['']\n",
    "y=df['y']\n",
    "#lists must be same length in bokeh or it will throw an error\n",
    "\n",
    "#prepare the output file\n",
    "output_file(\"Line_from_csv.html\")\n",
    "\n",
    "#create figure object\n",
    "f = figure()\n",
    "\n",
    "#create line plot\n",
    "f.line(x,y)\n",
    "\n",
    "show(f)\n"
   ]
  },
  {
   "cell_type": "code",
   "execution_count": 8,
   "id": "21d7eebb",
   "metadata": {},
   "outputs": [],
   "source": [
    "from bokeh.plotting import figure\n",
    "from bokeh.io import output_file,show\n",
    "import pandas\n",
    "\n",
    "\n",
    "\n",
    "#prepare some data\n",
    "df1 = pandas.read_csv(\"bachelors.csv\")\n",
    "\n",
    "x=df1['Year']\n",
    "y=df1['Engineering']\n",
    "#lists must be same length in bokeh or it will throw an error\n",
    "\n",
    "#prepare the output file\n",
    "output_file(\"year_engineering_csv.html\")\n",
    "\n",
    "#create figure object\n",
    "f1 = figure(plot_width=500,plot_height=400,tools = 'pan')\n",
    "\n",
    "f1.title.text = \"plot, Year and Engineering students\"\n",
    "f1.title.text_font = \"times\"\n",
    "f1.xaxis.axis_label = \"Year\"\n",
    "f1.yaxis.axis_label = \"Engineering\"\n",
    "\n",
    "#create line plot\n",
    "f1.line(x,y)\n",
    "\n",
    "show(f1)"
   ]
  },
  {
   "cell_type": "code",
   "execution_count": 22,
   "id": "dafd49c5",
   "metadata": {},
   "outputs": [],
   "source": [
    "from bokeh.plotting import figure\n",
    "from bokeh.io import output_file,show\n",
    "import pandas\n",
    "\n",
    "\n",
    "\n",
    "#prepare some data\n",
    "df2 = pandas.read_excel(\"verlegenhuken.xlsx\",sheet_name=0)\n",
    "\n",
    "df2[\"Temperature\"] = df2[\"Temperature\"] / 10\n",
    "df2[\"Pressure\"] = df2[\"Pressure\"] / 10\n",
    "\n",
    "f2 = figure()\n",
    "f2.title.text = \"Scatter plot of Temperature against Pressure weather values\"\n",
    "f2.xaxis.axis_label = 'Temperature (°C)'\n",
    "f2.yaxis.axis_label = 'Pressure (hPa)'\n",
    "\n",
    "f2.circle(df2[\"Temperature\"],df2[\"Pressure\"],size = 0.5)\n",
    "output_file(\"weather.html\")\n",
    "\n",
    "show(f2)"
   ]
  },
  {
   "cell_type": "code",
   "execution_count": 25,
   "id": "7731f061",
   "metadata": {},
   "outputs": [
    {
     "data": {
      "text/plain": [
       "['.ipynb_checkpoints',\n",
       " 'adbe.csv',\n",
       " 'bachelors.csv',\n",
       " 'basic graph.ipynb',\n",
       " 'circle.html',\n",
       " 'data.csv',\n",
       " 'Google+Link.txt',\n",
       " 'Line.html',\n",
       " 'Line_from_csv.html',\n",
       " 'square.html',\n",
       " 'test.py',\n",
       " 'triangle.html',\n",
       " 'verlegenhuken.xlsx',\n",
       " 'weather.html',\n",
       " 'year_engineering_csv.html']"
      ]
     },
     "execution_count": 25,
     "metadata": {},
     "output_type": "execute_result"
    }
   ],
   "source": [
    "import os\n",
    "os.listdir()"
   ]
  },
  {
   "cell_type": "code",
   "execution_count": 41,
   "id": "0a3d8c33",
   "metadata": {},
   "outputs": [],
   "source": [
    "from bokeh.plotting import figure\n",
    "from bokeh.io import output_file,show\n",
    "import pandas\n",
    "\n",
    "df3 = pandas.read_csv(\"adbe.csv\",parse_dates = [\"Date\"])\n",
    "\n",
    "f3 = figure(x_axis_type = \"datetime\",sizing_mode='scale_width')\n",
    "\n",
    "\n",
    "\n",
    "f3.line(df3[\"Date\"],df3[\"Close\"], color = 'orange',alpha = 0.5)\n",
    "\n",
    "output_file(\"Timeseries.html\")\n",
    "show(f3)"
   ]
  },
  {
   "cell_type": "code",
   "execution_count": null,
   "id": "c606ce2e",
   "metadata": {},
   "outputs": [],
   "source": []
  }
 ],
 "metadata": {
  "kernelspec": {
   "display_name": "Python 3",
   "language": "python",
   "name": "python3"
  },
  "language_info": {
   "codemirror_mode": {
    "name": "ipython",
    "version": 3
   },
   "file_extension": ".py",
   "mimetype": "text/x-python",
   "name": "python",
   "nbconvert_exporter": "python",
   "pygments_lexer": "ipython3",
   "version": "3.8.8"
  }
 },
 "nbformat": 4,
 "nbformat_minor": 5
}
